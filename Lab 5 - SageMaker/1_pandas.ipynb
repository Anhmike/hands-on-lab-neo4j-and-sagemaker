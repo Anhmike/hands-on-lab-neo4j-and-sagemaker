{
  "cells": [
    {
      "cell_type": "markdown",
      "metadata": {
        "id": "YasYy1BqRHY8"
      },
      "source": [
        "# Pandas\n",
        "We're going to play around with our data using Pandas...  First off, let's grab the training file."
      ]
    },
    {
      "cell_type": "code",
      "execution_count": null,
      "metadata": {
        "id": "qwKogqD_He_e",
        "vscode": {
          "languageId": "python"
        }
      },
      "outputs": [],
      "source": [
        "!wget https://neo4j-dataset.s3.amazonaws.com/form13/2021.csv"
      ]
    },
    {
      "cell_type": "markdown",
      "metadata": {},
      "source": [
        "Now let's load our data into memory and get a peek at it."
      ]
    },
    {
      "cell_type": "code",
      "execution_count": null,
      "metadata": {
        "vscode": {
          "languageId": "python"
        }
      },
      "outputs": [],
      "source": [
        "import pandas as pd\n",
        "df=pd.read_csv('2021.csv')\n",
        "df"
      ]
    },
    {
      "cell_type": "markdown",
      "metadata": {},
      "source": [
        "The column called target is, predicably, the target we're trying to predict.  It's a boolean that is true if the filing firm's stake in a company increased in the next filing period.  A filing period is one quarter."
      ]
    },
    {
      "cell_type": "code",
      "execution_count": null,
      "metadata": {
        "vscode": {
          "languageId": "python"
        }
      },
      "outputs": [],
      "source": [
        "df['target'].describe()"
      ]
    },
    {
      "cell_type": "markdown",
      "metadata": {},
      "source": [
        "Take a look at the number of rows total.  Compare that to the most frequent value in the target column.  That will tell you how balanced the dataset is.  Is it balanced?  That determines if we can use standard machine learning techniques or if we need to us special methods like boosting that can cope with imbalanced data."
      ]
    }
  ],
  "metadata": {
    "colab": {
      "name": "exploring_pandas.ipynb",
      "toc_visible": true
    },
    "kernelspec": {
      "display_name": "Python 3",
      "name": "python3"
    }
  },
  "nbformat": 4,
  "nbformat_minor": 0
}
